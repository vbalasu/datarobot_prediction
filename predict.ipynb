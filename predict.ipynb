{
 "cells": [
  {
   "cell_type": "code",
   "execution_count": 2,
   "metadata": {},
   "outputs": [
    {
     "name": "stdout",
     "output_type": "stream",
     "text": [
      "{\"data\": [{\"predictionValues\": [{\"value\": 0.1811680794, \"label\": 1.0}, {\"value\": 0.8188319206, \"label\": 0.0}], \"predictionThreshold\": 0.5, \"prediction\": 0.0, \"rowId\": 0}, {\"predictionValues\": [{\"value\": 0.1711637378, \"label\": 1.0}, {\"value\": 0.8288362622, \"label\": 0.0}], \"predictionThreshold\": 0.5, \"prediction\": 0.0, \"rowId\": 1}, {\"predictionValues\": [{\"value\": 0.474106878, \"label\": 1.0}, {\"value\": 0.525893122, \"label\": 0.0}], \"predictionThreshold\": 0.5, \"prediction\": 0.0, \"rowId\": 2}]}\n"
     ]
    }
   ],
   "source": [
    "# Usage: python datarobot-predict.py <input-file.csv>\n",
    "\n",
    "# This example uses the requests library which you can install with:\n",
    "#     pip install requests\n",
    "# We highly recommend that you update SSL certificates with:\n",
    "#     pip install -U urllib3[secure] certifi\n",
    "import requests, sys\n",
    "import config, json\n",
    "\n",
    "# Set HTTP headers\n",
    "# Note: The charset should match the contents of the file.\n",
    "headers = {'Content-Type': 'text/plain; charset=UTF-8', 'datarobot-key': config.DATAROBOT_KEY}\n",
    "\n",
    "data = open(config.INPUT_FILE, 'rb').read()\n",
    "\n",
    "# Make predictions on your data\n",
    "# The URL has the following format:\n",
    "#     https://spa.orm.datarobot.com/predApi/v1.0/deployments/<DEPLOYMENT_ID>/predictions\n",
    "# See docs for details:\n",
    "#     app.datarobot.com/docs/users-guide/deploy/api/new-prediction-api.html\n",
    "predictions_response = requests.post('https://spa.orm.datarobot.com/predApi/v1.0/deployments/%s/predictions' % (config.DEPLOYMENT_ID),\n",
    "                                     auth=(config.USERNAME, config.API_TOKEN), data=data, headers=headers)\n",
    "\n",
    "predictions_response.raise_for_status()\n",
    "print(json.dumps(predictions_response.json()))\n"
   ]
  }
 ],
 "metadata": {
  "kernelspec": {
   "display_name": "Python 3",
   "language": "python",
   "name": "python3"
  },
  "language_info": {
   "codemirror_mode": {
    "name": "ipython",
    "version": 3
   },
   "file_extension": ".py",
   "mimetype": "text/x-python",
   "name": "python",
   "nbconvert_exporter": "python",
   "pygments_lexer": "ipython3",
   "version": "3.7.0"
  }
 },
 "nbformat": 4,
 "nbformat_minor": 2
}
